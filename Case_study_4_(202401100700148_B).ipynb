{
  "nbformat": 4,
  "nbformat_minor": 0,
  "metadata": {
    "colab": {
      "provenance": [],
      "authorship_tag": "ABX9TyNJWy5OvvvtvTNx4mdwSM/m",
      "include_colab_link": true
    },
    "kernelspec": {
      "name": "python3",
      "display_name": "Python 3"
    },
    "language_info": {
      "name": "python"
    }
  },
  "cells": [
    {
      "cell_type": "markdown",
      "metadata": {
        "id": "view-in-github",
        "colab_type": "text"
      },
      "source": [
        "<a href=\"https://colab.research.google.com/github/Rishabh29999/To-do-notes-builder/blob/main/Case_study_4_(202401100700148_B).ipynb\" target=\"_parent\"><img src=\"https://colab.research.google.com/assets/colab-badge.svg\" alt=\"Open In Colab\"/></a>"
      ]
    },
    {
      "cell_type": "code",
      "execution_count": null,
      "metadata": {
        "id": "2HkgW_zUcRGq"
      },
      "outputs": [],
      "source": [
        "# To do notes builder\n",
        "# todo_notes_builder_no_def.py\n",
        "\n",
        "todo_list = []\n",
        "\n",
        "while True:\n",
        "    print(\"\\n--- TO-DO NOTES BUILDER ---\")\n",
        "    print(\"1. Add a note\")\n",
        "    print(\"2. View all notes\")\n",
        "    print(\"3. Mark a note as done\")\n",
        "    print(\"4. Delete a note\")\n",
        "    print(\"5. Exit\")\n",
        "\n",
        "    choice = input(\"Choose an option (1-5): \")\n",
        "\n",
        "    if choice == '1':\n",
        "        note = input(\"Enter your note: \")\n",
        "        todo_list.append({\"note\": note, \"done\": False})\n",
        "        print(\"Note added!\")\n",
        "\n",
        "    elif choice == '2':\n",
        "        if not todo_list:\n",
        "            print(\"📭 No notes to show.\")\n",
        "        else:\n",
        "            print(\"\\nYour To-Do List:\")\n",
        "            for i in range(len(todo_list)):\n",
        "                status = \"✅\" if todo_list[i][\"done\"] else \"❌\"\n",
        "                print(f\"{i+1}. {todo_list[i]['note']} [{status}]\")\n",
        "\n",
        "    elif choice == '3':\n",
        "        if not todo_list:\n",
        "            print(\"📭 No notes to mark.\")\n",
        "        else:\n",
        "            for i in range(len(todo_list)):\n",
        "                status = \"✅\" if todo_list[i][\"done\"] else \"❌\"\n",
        "                print(f\"{i+1}. {todo_list[i]['note']} [{status}]\")\n",
        "            try:\n",
        "                index = int(input(\"Enter the note number to mark as done: \")) - 1\n",
        "                if 0 <= index < len(todo_list):\n",
        "                    todo_list[index][\"done\"] = True\n",
        "                    print(\"👍 Marked as done!\")\n",
        "                else:\n",
        "                    print(\"❗Invalid note number.\")\n",
        "            except ValueError:\n",
        "                print(\"❗Please enter a valid number.\")\n",
        "\n",
        "    elif choice == '4':\n",
        "        if not todo_list:\n",
        "            print(\"📭 No notes to delete.\")\n",
        "        else:\n",
        "            for i in range(len(todo_list)):\n",
        "                status = \"✅\" if todo_list[i][\"done\"] else \"❌\"\n",
        "                print(f\"{i+1}. {todo_list[i]['note']} [{status}]\")\n",
        "            try:\n",
        "                index = int(input(\"Enter the note number to delete: \")) - 1\n",
        "                if 0 <= index < len(todo_list):\n",
        "                    removed = todo_list.pop(index)\n",
        "                    print(f\"🗑 Deleted: '{removed['note']}'\")\n",
        "                else:\n",
        "                    print(\"❗Invalid note number.\")\n",
        "            except ValueError:\n",
        "                print(\"❗Please enter a valid number.\")\n",
        "\n",
        "    elif choice == '5':\n",
        "        print(\"👋 Exiting. Have a productive day!\")\n",
        "        break\n",
        "\n",
        "    else:\n",
        "        print(\"❗Invalid choice. Please try again.\")\n"
      ]
    }
  ]
}